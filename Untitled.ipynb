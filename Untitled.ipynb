{
 "cells": [
  {
   "cell_type": "markdown",
   "metadata": {},
   "source": [
    "## Modelling the transition stuff."
   ]
  },
  {
   "cell_type": "markdown",
   "metadata": {},
   "source": [
    "Right. So we need to know about stark effects from both beams, whether or not the pump detuning makes a difference, et cetera. Prob does and likely varies a bit as they're of the order of the transition linewidth. Uergh.\n",
    "\n",
    "Shoulda done it in the BEC lol. Anyway."
   ]
  },
  {
   "cell_type": "code",
   "execution_count": 39,
   "metadata": {
    "ExecuteTime": {
     "end_time": "2020-01-31T01:57:03.138131Z",
     "start_time": "2020-01-31T01:57:03.132151Z"
    }
   },
   "outputs": [],
   "source": [
    "import numpy as np\n",
    "\n",
    "k_B = 1.308e-23\n",
    "c = 299792458\n",
    "m_He = 6.64e-27\n",
    "h = 6.63e-34\n",
    "hbar = h/(2*np.pi)\n",
    "\n",
    "l_cooling = 1083.331e-9\n",
    "l_target = 407.72e-9\n",
    "f_cooling = c/l_cooling\n",
    "f_target = c/l_target\n",
    "k_cooling = 2*np.pi/l_cooling\n",
    "k_target = 2*np.pi/l_target\n",
    "p_cooling = h/l_cooling\n",
    "p_target = h/l_target\n",
    "\n",
    "Gamma_cooling = 1.6e6 # Hz\n",
    "doppler_limit = h*Gamma_cooling/(2*k_B)"
   ]
  },
  {
   "cell_type": "markdown",
   "metadata": {},
   "source": [
    "### Zeeman"
   ]
  },
  {
   "cell_type": "code",
   "execution_count": null,
   "metadata": {},
   "outputs": [],
   "source": [
    "# Definition of Zeeman shift\n",
    "delta_E = -m_j * B* mu_B * g_factor\n",
    "# Ah, I worked all this out before. "
   ]
  },
  {
   "cell_type": "markdown",
   "metadata": {},
   "source": [
    "### AC Stark"
   ]
  },
  {
   "cell_type": "markdown",
   "metadata": {},
   "source": [
    "### Stark"
   ]
  },
  {
   "cell_type": "markdown",
   "metadata": {},
   "source": [
    "### DC Stark"
   ]
  },
  {
   "cell_type": "markdown",
   "metadata": {
    "heading_collapsed": true
   },
   "source": [
    "### Recoil\n",
    "\n",
    "The pump beams are incident at 15 degrees and 195 degrees relative to the probe beam. The probe beam is antiparallel to the magnetic field. The associated shift is +- 0.22(1) MHz assuming a 1 degree accuracy."
   ]
  },
  {
   "cell_type": "code",
   "execution_count": 40,
   "metadata": {
    "ExecuteTime": {
     "end_time": "2020-01-31T01:57:05.351474Z",
     "start_time": "2020-01-31T01:57:05.347450Z"
    },
    "hidden": true
   },
   "outputs": [
    {
     "name": "stdout",
     "output_type": "stream",
     "text": [
      "15deg Doppler factor = 1.000000000\n",
      "195deg Doppler factor = 1.000000000\n",
      "15deg Doppler shift = 0.218356458 MHz\n",
      "195deg Doppler shift = -0.218356458 MHz\n"
     ]
    }
   ],
   "source": [
    "# The atoms get a momentum kick from the photons which translates into a velocity\n",
    "v_15 = np.cos(np.pi*15/180) * p_cooling/m_He\n",
    "v_195 = np.cos(np.pi*195/180) * p_cooling/m_He\n",
    "# Which has an associated Doppler shift in the target transition by a negligible factor:\n",
    "print('15deg Doppler factor = %.9f'%(1  + v_15/c))\n",
    "print('195deg Doppler factor = %.9f'%(1  + v_195/c))\n",
    "print('15deg Doppler shift = %.9f MHz'%((v_15/c)*f_target/1e6))\n",
    "print('195deg Doppler shift = %.9f MHz'%((v_195/c)*f_target/1e6))"
   ]
  },
  {
   "cell_type": "code",
   "execution_count": 41,
   "metadata": {
    "ExecuteTime": {
     "end_time": "2020-01-31T01:57:06.383081Z",
     "start_time": "2020-01-31T01:57:06.380079Z"
    },
    "hidden": true
   },
   "outputs": [
    {
     "name": "stdout",
     "output_type": "stream",
     "text": [
      "-0.011079281133882794\n"
     ]
    }
   ],
   "source": [
    "# Estimating the error... The wavelength of light is known very well. The angle maybe less so. \n",
    "# But still should be accurate to within less than a degree\n",
    "# So what if it's out by a degree?\n",
    "deriv_wrt_angle = -np.sin(np.pi*15/180)\n",
    "d_angle = np.pi/180 # rad\n",
    "grad_doppler_shift = (f_target/c)*deriv_wrt_angle*d_angle\n",
    "print(grad_doppler_shift/1e6)"
   ]
  },
  {
   "cell_type": "markdown",
   "metadata": {},
   "source": [
    "### Mean field"
   ]
  },
  {
   "cell_type": "markdown",
   "metadata": {},
   "source": [
    "### Doppler\n",
    "This refers to the broadening of the line due to thermal effects\n",
    "The precise temperature is hard to tell. One could assume the Doppler limit and see how that goes."
   ]
  },
  {
   "cell_type": "code",
   "execution_count": 33,
   "metadata": {
    "ExecuteTime": {
     "end_time": "2020-01-31T00:54:05.000308Z",
     "start_time": "2020-01-31T00:54:04.992584Z"
    }
   },
   "outputs": [
    {
     "name": "stdout",
     "output_type": "stream",
     "text": [
      "Doppler broadening of cooling transition 0.61 MHz\n",
      "Doppler broadening of target transition 1.63 MHz\n"
     ]
    }
   ],
   "source": [
    "def doppler_width(T,m,f0):\n",
    "    # NB this is for a single frequency \n",
    "    # so one would need to integrate this over the Lorentzian profile?\n",
    "    return np.sqrt(8*k_B*T*np.log(2)/(m*c**2))*f0\n",
    "\n",
    "print('Doppler broadening of cooling transition %.2f MHz'%(1e-6*doppler_width(doppler_limit,m_He,f_cooling)))\n",
    "print('Doppler broadening of target transition %.2f MHz'%(1e-6*doppler_width(doppler_limit,m_He,f_target)))\n"
   ]
  },
  {
   "cell_type": "markdown",
   "metadata": {},
   "source": [
    "### Wavemeter\n",
    "Known from calibration."
   ]
  },
  {
   "cell_type": "markdown",
   "metadata": {},
   "source": [
    "### Cs cell\n",
    "Borrow from Kieran I guess"
   ]
  },
  {
   "cell_type": "code",
   "execution_count": null,
   "metadata": {},
   "outputs": [],
   "source": []
  }
 ],
 "metadata": {
  "kernelspec": {
   "display_name": "Python 3",
   "language": "python",
   "name": "python3"
  },
  "language_info": {
   "codemirror_mode": {
    "name": "ipython",
    "version": 3
   },
   "file_extension": ".py",
   "mimetype": "text/x-python",
   "name": "python",
   "nbconvert_exporter": "python",
   "pygments_lexer": "ipython3",
   "version": "3.6.6"
  },
  "toc": {
   "base_numbering": 1,
   "nav_menu": {},
   "number_sections": true,
   "sideBar": true,
   "skip_h1_title": false,
   "title_cell": "Table of Contents",
   "title_sidebar": "Contents",
   "toc_cell": false,
   "toc_position": {},
   "toc_section_display": true,
   "toc_window_display": false
  }
 },
 "nbformat": 4,
 "nbformat_minor": 2
}
